{
 "cells": [
  {
   "cell_type": "code",
   "execution_count": 24,
   "id": "8e8ae949",
   "metadata": {},
   "outputs": [],
   "source": [
    "import pandas as pd"
   ]
  },
  {
   "cell_type": "code",
   "execution_count": 25,
   "id": "53e6e914",
   "metadata": {},
   "outputs": [],
   "source": [
    "import numpy as np"
   ]
  },
  {
   "cell_type": "code",
   "execution_count": 26,
   "id": "9db73718",
   "metadata": {},
   "outputs": [],
   "source": [
    "ads = pd.read_csv(\"train_data_ads.csv\")"
   ]
  },
  {
   "cell_type": "code",
   "execution_count": 27,
   "id": "7a86c81d",
   "metadata": {},
   "outputs": [],
   "source": [
    "feeds = pd.read_csv(\"train_data_feeds.csv\")"
   ]
  },
  {
   "cell_type": "code",
   "execution_count": 28,
   "id": "f6f6763c",
   "metadata": {},
   "outputs": [
    {
     "data": {
      "text/plain": [
       "(3227732, 28)"
      ]
     },
     "execution_count": 28,
     "metadata": {},
     "output_type": "execute_result"
    }
   ],
   "source": [
    "feeds.shape"
   ]
  },
  {
   "cell_type": "code",
   "execution_count": 29,
   "id": "32493122",
   "metadata": {},
   "outputs": [
    {
     "data": {
      "text/plain": [
       "76755.17"
      ]
     },
     "execution_count": 29,
     "metadata": {},
     "output_type": "execute_result"
    }
   ],
   "source": [
    "7675517 * 0.01"
   ]
  },
  {
   "cell_type": "code",
   "execution_count": 30,
   "id": "7e96bb35",
   "metadata": {},
   "outputs": [
    {
     "data": {
      "text/plain": [
       "32277.32"
      ]
     },
     "execution_count": 30,
     "metadata": {},
     "output_type": "execute_result"
    }
   ],
   "source": [
    "3227732 * 0.01"
   ]
  },
  {
   "cell_type": "code",
   "execution_count": 31,
   "id": "f1898749",
   "metadata": {},
   "outputs": [],
   "source": [
    "ads = ads.sample(76756)"
   ]
  },
  {
   "cell_type": "code",
   "execution_count": 32,
   "id": "0ea7ba05",
   "metadata": {},
   "outputs": [],
   "source": [
    "feeds = feeds.sample(32278)"
   ]
  },
  {
   "cell_type": "code",
   "execution_count": 33,
   "id": "6a53e2ba",
   "metadata": {},
   "outputs": [
    {
     "data": {
      "text/plain": [
       "(76756, 35)"
      ]
     },
     "execution_count": 33,
     "metadata": {},
     "output_type": "execute_result"
    }
   ],
   "source": [
    "ads.shape"
   ]
  },
  {
   "cell_type": "code",
   "execution_count": 34,
   "id": "bc4546da",
   "metadata": {},
   "outputs": [],
   "source": [
    "feeds['user_id'] = feeds['u_userId']"
   ]
  },
  {
   "cell_type": "code",
   "execution_count": 35,
   "id": "c13ed4fb",
   "metadata": {},
   "outputs": [],
   "source": [
    "feeds = feeds.drop('u_userId', axis = 1)"
   ]
  },
  {
   "cell_type": "code",
   "execution_count": 36,
   "id": "f1438802",
   "metadata": {},
   "outputs": [],
   "source": [
    "merged = pd.merge(ads, feeds, on = 'user_id', how = 'outer')"
   ]
  },
  {
   "cell_type": "code",
   "execution_count": 37,
   "id": "fc5dbfef",
   "metadata": {},
   "outputs": [
    {
     "data": {
      "text/html": [
       "<div>\n",
       "<style scoped>\n",
       "    .dataframe tbody tr th:only-of-type {\n",
       "        vertical-align: middle;\n",
       "    }\n",
       "\n",
       "    .dataframe tbody tr th {\n",
       "        vertical-align: top;\n",
       "    }\n",
       "\n",
       "    .dataframe thead th {\n",
       "        text-align: right;\n",
       "    }\n",
       "</style>\n",
       "<table border=\"1\" class=\"dataframe\">\n",
       "  <thead>\n",
       "    <tr style=\"text-align: right;\">\n",
       "      <th></th>\n",
       "      <th>log_id</th>\n",
       "      <th>label_x</th>\n",
       "      <th>user_id</th>\n",
       "      <th>age</th>\n",
       "      <th>gender</th>\n",
       "      <th>residence</th>\n",
       "      <th>city</th>\n",
       "      <th>city_rank</th>\n",
       "      <th>series_dev</th>\n",
       "      <th>series_group</th>\n",
       "      <th>...</th>\n",
       "      <th>e_ch</th>\n",
       "      <th>e_m</th>\n",
       "      <th>e_po</th>\n",
       "      <th>e_pl</th>\n",
       "      <th>e_rn</th>\n",
       "      <th>e_section</th>\n",
       "      <th>e_et</th>\n",
       "      <th>label_y</th>\n",
       "      <th>cillabel</th>\n",
       "      <th>pro</th>\n",
       "    </tr>\n",
       "  </thead>\n",
       "  <tbody>\n",
       "    <tr>\n",
       "      <th>0</th>\n",
       "      <td>448097.0</td>\n",
       "      <td>0.0</td>\n",
       "      <td>110010</td>\n",
       "      <td>3.0</td>\n",
       "      <td>2.0</td>\n",
       "      <td>21.0</td>\n",
       "      <td>434.0</td>\n",
       "      <td>5.0</td>\n",
       "      <td>31.0</td>\n",
       "      <td>3.0</td>\n",
       "      <td>...</td>\n",
       "      <td>NaN</td>\n",
       "      <td>NaN</td>\n",
       "      <td>NaN</td>\n",
       "      <td>NaN</td>\n",
       "      <td>NaN</td>\n",
       "      <td>NaN</td>\n",
       "      <td>NaN</td>\n",
       "      <td>NaN</td>\n",
       "      <td>NaN</td>\n",
       "      <td>NaN</td>\n",
       "    </tr>\n",
       "    <tr>\n",
       "      <th>1</th>\n",
       "      <td>388876.0</td>\n",
       "      <td>0.0</td>\n",
       "      <td>110010</td>\n",
       "      <td>3.0</td>\n",
       "      <td>2.0</td>\n",
       "      <td>21.0</td>\n",
       "      <td>434.0</td>\n",
       "      <td>5.0</td>\n",
       "      <td>31.0</td>\n",
       "      <td>3.0</td>\n",
       "      <td>...</td>\n",
       "      <td>NaN</td>\n",
       "      <td>NaN</td>\n",
       "      <td>NaN</td>\n",
       "      <td>NaN</td>\n",
       "      <td>NaN</td>\n",
       "      <td>NaN</td>\n",
       "      <td>NaN</td>\n",
       "      <td>NaN</td>\n",
       "      <td>NaN</td>\n",
       "      <td>NaN</td>\n",
       "    </tr>\n",
       "    <tr>\n",
       "      <th>2</th>\n",
       "      <td>448042.0</td>\n",
       "      <td>0.0</td>\n",
       "      <td>110010</td>\n",
       "      <td>3.0</td>\n",
       "      <td>2.0</td>\n",
       "      <td>21.0</td>\n",
       "      <td>434.0</td>\n",
       "      <td>5.0</td>\n",
       "      <td>31.0</td>\n",
       "      <td>3.0</td>\n",
       "      <td>...</td>\n",
       "      <td>NaN</td>\n",
       "      <td>NaN</td>\n",
       "      <td>NaN</td>\n",
       "      <td>NaN</td>\n",
       "      <td>NaN</td>\n",
       "      <td>NaN</td>\n",
       "      <td>NaN</td>\n",
       "      <td>NaN</td>\n",
       "      <td>NaN</td>\n",
       "      <td>NaN</td>\n",
       "    </tr>\n",
       "    <tr>\n",
       "      <th>3</th>\n",
       "      <td>448082.0</td>\n",
       "      <td>0.0</td>\n",
       "      <td>110010</td>\n",
       "      <td>3.0</td>\n",
       "      <td>2.0</td>\n",
       "      <td>21.0</td>\n",
       "      <td>434.0</td>\n",
       "      <td>5.0</td>\n",
       "      <td>31.0</td>\n",
       "      <td>3.0</td>\n",
       "      <td>...</td>\n",
       "      <td>NaN</td>\n",
       "      <td>NaN</td>\n",
       "      <td>NaN</td>\n",
       "      <td>NaN</td>\n",
       "      <td>NaN</td>\n",
       "      <td>NaN</td>\n",
       "      <td>NaN</td>\n",
       "      <td>NaN</td>\n",
       "      <td>NaN</td>\n",
       "      <td>NaN</td>\n",
       "    </tr>\n",
       "    <tr>\n",
       "      <th>4</th>\n",
       "      <td>665519.0</td>\n",
       "      <td>0.0</td>\n",
       "      <td>179890</td>\n",
       "      <td>8.0</td>\n",
       "      <td>2.0</td>\n",
       "      <td>20.0</td>\n",
       "      <td>170.0</td>\n",
       "      <td>4.0</td>\n",
       "      <td>30.0</td>\n",
       "      <td>3.0</td>\n",
       "      <td>...</td>\n",
       "      <td>17.0</td>\n",
       "      <td>1408.0</td>\n",
       "      <td>3.0</td>\n",
       "      <td>871.0</td>\n",
       "      <td>2.0</td>\n",
       "      <td>0.0</td>\n",
       "      <td>2.022060e+11</td>\n",
       "      <td>-1.0</td>\n",
       "      <td>-1.0</td>\n",
       "      <td>0.0</td>\n",
       "    </tr>\n",
       "  </tbody>\n",
       "</table>\n",
       "<p>5 rows × 62 columns</p>\n",
       "</div>"
      ],
      "text/plain": [
       "     log_id  label_x  user_id  age  gender  residence   city  city_rank  \\\n",
       "0  448097.0      0.0   110010  3.0     2.0       21.0  434.0        5.0   \n",
       "1  388876.0      0.0   110010  3.0     2.0       21.0  434.0        5.0   \n",
       "2  448042.0      0.0   110010  3.0     2.0       21.0  434.0        5.0   \n",
       "3  448082.0      0.0   110010  3.0     2.0       21.0  434.0        5.0   \n",
       "4  665519.0      0.0   179890  8.0     2.0       20.0  170.0        4.0   \n",
       "\n",
       "   series_dev  series_group  ...  e_ch     e_m  e_po   e_pl  e_rn  e_section  \\\n",
       "0        31.0           3.0  ...   NaN     NaN   NaN    NaN   NaN        NaN   \n",
       "1        31.0           3.0  ...   NaN     NaN   NaN    NaN   NaN        NaN   \n",
       "2        31.0           3.0  ...   NaN     NaN   NaN    NaN   NaN        NaN   \n",
       "3        31.0           3.0  ...   NaN     NaN   NaN    NaN   NaN        NaN   \n",
       "4        30.0           3.0  ...  17.0  1408.0   3.0  871.0   2.0        0.0   \n",
       "\n",
       "           e_et  label_y  cillabel  pro  \n",
       "0           NaN      NaN       NaN  NaN  \n",
       "1           NaN      NaN       NaN  NaN  \n",
       "2           NaN      NaN       NaN  NaN  \n",
       "3           NaN      NaN       NaN  NaN  \n",
       "4  2.022060e+11     -1.0      -1.0  0.0  \n",
       "\n",
       "[5 rows x 62 columns]"
      ]
     },
     "execution_count": 37,
     "metadata": {},
     "output_type": "execute_result"
    }
   ],
   "source": [
    "merged.head()"
   ]
  },
  {
   "cell_type": "code",
   "execution_count": 38,
   "id": "c6686e17",
   "metadata": {},
   "outputs": [
    {
     "data": {
      "text/plain": [
       "(124665, 62)"
      ]
     },
     "execution_count": 38,
     "metadata": {},
     "output_type": "execute_result"
    }
   ],
   "source": [
    "merged.shape"
   ]
  },
  {
   "cell_type": "code",
   "execution_count": 39,
   "id": "06402564",
   "metadata": {},
   "outputs": [
    {
     "data": {
      "text/plain": [
       "109034"
      ]
     },
     "execution_count": 39,
     "metadata": {},
     "output_type": "execute_result"
    }
   ],
   "source": [
    "76756 + 32278"
   ]
  },
  {
   "cell_type": "code",
   "execution_count": 41,
   "id": "1e81d764",
   "metadata": {},
   "outputs": [
    {
     "data": {
      "text/plain": [
       "Index(['log_id', 'label_x', 'user_id', 'age', 'gender', 'residence', 'city',\n",
       "       'city_rank', 'series_dev', 'series_group', 'emui_dev', 'device_name',\n",
       "       'device_size', 'net_type', 'task_id', 'adv_id', 'creat_type_cd',\n",
       "       'adv_prim_id', 'inter_type_cd', 'slot_id', 'site_id', 'spread_app_id',\n",
       "       'hispace_app_tags', 'app_second_class', 'app_score',\n",
       "       'ad_click_list_v001', 'ad_click_list_v002', 'ad_click_list_v003',\n",
       "       'ad_close_list_v001', 'ad_close_list_v002', 'ad_close_list_v003',\n",
       "       'pt_d', 'u_newsCatInterestsST_x', 'u_refreshTimes_x',\n",
       "       'u_feedLifeCycle_x', 'u_phonePrice', 'u_browserLifeCycle',\n",
       "       'u_browserMode', 'u_feedLifeCycle_y', 'u_refreshTimes_y',\n",
       "       'u_newsCatInterests', 'u_newsCatDislike', 'u_newsCatInterestsST_y',\n",
       "       'u_click_ca2_news', 'i_docId', 'i_s_sourceId', 'i_regionEntity',\n",
       "       'i_cat', 'i_entities', 'i_dislikeTimes', 'i_upTimes', 'i_dtype', 'e_ch',\n",
       "       'e_m', 'e_po', 'e_pl', 'e_rn', 'e_section', 'e_et', 'label_y',\n",
       "       'cillabel', 'pro'],\n",
       "      dtype='object')"
      ]
     },
     "execution_count": 41,
     "metadata": {},
     "output_type": "execute_result"
    }
   ],
   "source": [
    "merged.columns"
   ]
  },
  {
   "cell_type": "code",
   "execution_count": 45,
   "id": "4392bc3f",
   "metadata": {},
   "outputs": [],
   "source": [
    "df_cust = merged[merged['label_y'] == 1]"
   ]
  },
  {
   "cell_type": "code",
   "execution_count": 47,
   "id": "fb63731d",
   "metadata": {},
   "outputs": [
    {
     "data": {
      "text/plain": [
       "(8067, 62)"
      ]
     },
     "execution_count": 47,
     "metadata": {},
     "output_type": "execute_result"
    }
   ],
   "source": [
    "df_cust.shape"
   ]
  },
  {
   "cell_type": "code",
   "execution_count": 48,
   "id": "322092b3",
   "metadata": {},
   "outputs": [
    {
     "data": {
      "text/html": [
       "<div>\n",
       "<style scoped>\n",
       "    .dataframe tbody tr th:only-of-type {\n",
       "        vertical-align: middle;\n",
       "    }\n",
       "\n",
       "    .dataframe tbody tr th {\n",
       "        vertical-align: top;\n",
       "    }\n",
       "\n",
       "    .dataframe thead th {\n",
       "        text-align: right;\n",
       "    }\n",
       "</style>\n",
       "<table border=\"1\" class=\"dataframe\">\n",
       "  <thead>\n",
       "    <tr style=\"text-align: right;\">\n",
       "      <th></th>\n",
       "      <th>log_id</th>\n",
       "      <th>label_x</th>\n",
       "      <th>user_id</th>\n",
       "      <th>age</th>\n",
       "      <th>gender</th>\n",
       "      <th>residence</th>\n",
       "      <th>city</th>\n",
       "      <th>city_rank</th>\n",
       "      <th>series_dev</th>\n",
       "      <th>series_group</th>\n",
       "      <th>...</th>\n",
       "      <th>e_ch</th>\n",
       "      <th>e_m</th>\n",
       "      <th>e_po</th>\n",
       "      <th>e_pl</th>\n",
       "      <th>e_rn</th>\n",
       "      <th>e_section</th>\n",
       "      <th>e_et</th>\n",
       "      <th>label_y</th>\n",
       "      <th>cillabel</th>\n",
       "      <th>pro</th>\n",
       "    </tr>\n",
       "  </thead>\n",
       "  <tbody>\n",
       "    <tr>\n",
       "      <th>59</th>\n",
       "      <td>647968.0</td>\n",
       "      <td>0.0</td>\n",
       "      <td>195823</td>\n",
       "      <td>7.0</td>\n",
       "      <td>2.0</td>\n",
       "      <td>13.0</td>\n",
       "      <td>430.0</td>\n",
       "      <td>2.0</td>\n",
       "      <td>16.0</td>\n",
       "      <td>5.0</td>\n",
       "      <td>...</td>\n",
       "      <td>19.0</td>\n",
       "      <td>842.0</td>\n",
       "      <td>10.0</td>\n",
       "      <td>2535.0</td>\n",
       "      <td>1.0</td>\n",
       "      <td>0.0</td>\n",
       "      <td>2.022061e+11</td>\n",
       "      <td>1.0</td>\n",
       "      <td>-1.0</td>\n",
       "      <td>100.0</td>\n",
       "    </tr>\n",
       "    <tr>\n",
       "      <th>126</th>\n",
       "      <td>892670.0</td>\n",
       "      <td>0.0</td>\n",
       "      <td>139694</td>\n",
       "      <td>5.0</td>\n",
       "      <td>2.0</td>\n",
       "      <td>16.0</td>\n",
       "      <td>120.0</td>\n",
       "      <td>4.0</td>\n",
       "      <td>17.0</td>\n",
       "      <td>4.0</td>\n",
       "      <td>...</td>\n",
       "      <td>19.0</td>\n",
       "      <td>26.0</td>\n",
       "      <td>2.0</td>\n",
       "      <td>1828.0</td>\n",
       "      <td>8.0</td>\n",
       "      <td>0.0</td>\n",
       "      <td>2.022061e+11</td>\n",
       "      <td>1.0</td>\n",
       "      <td>-1.0</td>\n",
       "      <td>80.0</td>\n",
       "    </tr>\n",
       "    <tr>\n",
       "      <th>127</th>\n",
       "      <td>892670.0</td>\n",
       "      <td>0.0</td>\n",
       "      <td>139694</td>\n",
       "      <td>5.0</td>\n",
       "      <td>2.0</td>\n",
       "      <td>16.0</td>\n",
       "      <td>120.0</td>\n",
       "      <td>4.0</td>\n",
       "      <td>17.0</td>\n",
       "      <td>4.0</td>\n",
       "      <td>...</td>\n",
       "      <td>19.0</td>\n",
       "      <td>26.0</td>\n",
       "      <td>9.0</td>\n",
       "      <td>1828.0</td>\n",
       "      <td>11.0</td>\n",
       "      <td>0.0</td>\n",
       "      <td>2.022061e+11</td>\n",
       "      <td>1.0</td>\n",
       "      <td>-1.0</td>\n",
       "      <td>20.0</td>\n",
       "    </tr>\n",
       "    <tr>\n",
       "      <th>129</th>\n",
       "      <td>892570.0</td>\n",
       "      <td>0.0</td>\n",
       "      <td>139694</td>\n",
       "      <td>5.0</td>\n",
       "      <td>2.0</td>\n",
       "      <td>16.0</td>\n",
       "      <td>120.0</td>\n",
       "      <td>4.0</td>\n",
       "      <td>17.0</td>\n",
       "      <td>4.0</td>\n",
       "      <td>...</td>\n",
       "      <td>19.0</td>\n",
       "      <td>26.0</td>\n",
       "      <td>2.0</td>\n",
       "      <td>1828.0</td>\n",
       "      <td>8.0</td>\n",
       "      <td>0.0</td>\n",
       "      <td>2.022061e+11</td>\n",
       "      <td>1.0</td>\n",
       "      <td>-1.0</td>\n",
       "      <td>80.0</td>\n",
       "    </tr>\n",
       "    <tr>\n",
       "      <th>130</th>\n",
       "      <td>892570.0</td>\n",
       "      <td>0.0</td>\n",
       "      <td>139694</td>\n",
       "      <td>5.0</td>\n",
       "      <td>2.0</td>\n",
       "      <td>16.0</td>\n",
       "      <td>120.0</td>\n",
       "      <td>4.0</td>\n",
       "      <td>17.0</td>\n",
       "      <td>4.0</td>\n",
       "      <td>...</td>\n",
       "      <td>19.0</td>\n",
       "      <td>26.0</td>\n",
       "      <td>9.0</td>\n",
       "      <td>1828.0</td>\n",
       "      <td>11.0</td>\n",
       "      <td>0.0</td>\n",
       "      <td>2.022061e+11</td>\n",
       "      <td>1.0</td>\n",
       "      <td>-1.0</td>\n",
       "      <td>20.0</td>\n",
       "    </tr>\n",
       "    <tr>\n",
       "      <th>...</th>\n",
       "      <td>...</td>\n",
       "      <td>...</td>\n",
       "      <td>...</td>\n",
       "      <td>...</td>\n",
       "      <td>...</td>\n",
       "      <td>...</td>\n",
       "      <td>...</td>\n",
       "      <td>...</td>\n",
       "      <td>...</td>\n",
       "      <td>...</td>\n",
       "      <td>...</td>\n",
       "      <td>...</td>\n",
       "      <td>...</td>\n",
       "      <td>...</td>\n",
       "      <td>...</td>\n",
       "      <td>...</td>\n",
       "      <td>...</td>\n",
       "      <td>...</td>\n",
       "      <td>...</td>\n",
       "      <td>...</td>\n",
       "      <td>...</td>\n",
       "    </tr>\n",
       "    <tr>\n",
       "      <th>124599</th>\n",
       "      <td>NaN</td>\n",
       "      <td>NaN</td>\n",
       "      <td>127868</td>\n",
       "      <td>NaN</td>\n",
       "      <td>NaN</td>\n",
       "      <td>NaN</td>\n",
       "      <td>NaN</td>\n",
       "      <td>NaN</td>\n",
       "      <td>NaN</td>\n",
       "      <td>NaN</td>\n",
       "      <td>...</td>\n",
       "      <td>19.0</td>\n",
       "      <td>1265.0</td>\n",
       "      <td>6.0</td>\n",
       "      <td>2859.0</td>\n",
       "      <td>1.0</td>\n",
       "      <td>1.0</td>\n",
       "      <td>2.022061e+11</td>\n",
       "      <td>1.0</td>\n",
       "      <td>-1.0</td>\n",
       "      <td>100.0</td>\n",
       "    </tr>\n",
       "    <tr>\n",
       "      <th>124603</th>\n",
       "      <td>NaN</td>\n",
       "      <td>NaN</td>\n",
       "      <td>177484</td>\n",
       "      <td>NaN</td>\n",
       "      <td>NaN</td>\n",
       "      <td>NaN</td>\n",
       "      <td>NaN</td>\n",
       "      <td>NaN</td>\n",
       "      <td>NaN</td>\n",
       "      <td>NaN</td>\n",
       "      <td>...</td>\n",
       "      <td>19.0</td>\n",
       "      <td>565.0</td>\n",
       "      <td>2.0</td>\n",
       "      <td>1338.0</td>\n",
       "      <td>2.0</td>\n",
       "      <td>0.0</td>\n",
       "      <td>2.022061e+11</td>\n",
       "      <td>1.0</td>\n",
       "      <td>-1.0</td>\n",
       "      <td>80.0</td>\n",
       "    </tr>\n",
       "    <tr>\n",
       "      <th>124628</th>\n",
       "      <td>NaN</td>\n",
       "      <td>NaN</td>\n",
       "      <td>120744</td>\n",
       "      <td>NaN</td>\n",
       "      <td>NaN</td>\n",
       "      <td>NaN</td>\n",
       "      <td>NaN</td>\n",
       "      <td>NaN</td>\n",
       "      <td>NaN</td>\n",
       "      <td>NaN</td>\n",
       "      <td>...</td>\n",
       "      <td>19.0</td>\n",
       "      <td>26.0</td>\n",
       "      <td>7.0</td>\n",
       "      <td>1214.0</td>\n",
       "      <td>1.0</td>\n",
       "      <td>1.0</td>\n",
       "      <td>2.022060e+11</td>\n",
       "      <td>1.0</td>\n",
       "      <td>-1.0</td>\n",
       "      <td>100.0</td>\n",
       "    </tr>\n",
       "    <tr>\n",
       "      <th>124661</th>\n",
       "      <td>NaN</td>\n",
       "      <td>NaN</td>\n",
       "      <td>226063</td>\n",
       "      <td>NaN</td>\n",
       "      <td>NaN</td>\n",
       "      <td>NaN</td>\n",
       "      <td>NaN</td>\n",
       "      <td>NaN</td>\n",
       "      <td>NaN</td>\n",
       "      <td>NaN</td>\n",
       "      <td>...</td>\n",
       "      <td>19.0</td>\n",
       "      <td>220.0</td>\n",
       "      <td>1.0</td>\n",
       "      <td>1396.0</td>\n",
       "      <td>4.0</td>\n",
       "      <td>0.0</td>\n",
       "      <td>2.022061e+11</td>\n",
       "      <td>1.0</td>\n",
       "      <td>-1.0</td>\n",
       "      <td>100.0</td>\n",
       "    </tr>\n",
       "    <tr>\n",
       "      <th>124663</th>\n",
       "      <td>NaN</td>\n",
       "      <td>NaN</td>\n",
       "      <td>125396</td>\n",
       "      <td>NaN</td>\n",
       "      <td>NaN</td>\n",
       "      <td>NaN</td>\n",
       "      <td>NaN</td>\n",
       "      <td>NaN</td>\n",
       "      <td>NaN</td>\n",
       "      <td>NaN</td>\n",
       "      <td>...</td>\n",
       "      <td>19.0</td>\n",
       "      <td>487.0</td>\n",
       "      <td>5.0</td>\n",
       "      <td>2326.0</td>\n",
       "      <td>4.0</td>\n",
       "      <td>0.0</td>\n",
       "      <td>2.022060e+11</td>\n",
       "      <td>1.0</td>\n",
       "      <td>-1.0</td>\n",
       "      <td>100.0</td>\n",
       "    </tr>\n",
       "  </tbody>\n",
       "</table>\n",
       "<p>8067 rows × 62 columns</p>\n",
       "</div>"
      ],
      "text/plain": [
       "          log_id  label_x  user_id  age  gender  residence   city  city_rank  \\\n",
       "59      647968.0      0.0   195823  7.0     2.0       13.0  430.0        2.0   \n",
       "126     892670.0      0.0   139694  5.0     2.0       16.0  120.0        4.0   \n",
       "127     892670.0      0.0   139694  5.0     2.0       16.0  120.0        4.0   \n",
       "129     892570.0      0.0   139694  5.0     2.0       16.0  120.0        4.0   \n",
       "130     892570.0      0.0   139694  5.0     2.0       16.0  120.0        4.0   \n",
       "...          ...      ...      ...  ...     ...        ...    ...        ...   \n",
       "124599       NaN      NaN   127868  NaN     NaN        NaN    NaN        NaN   \n",
       "124603       NaN      NaN   177484  NaN     NaN        NaN    NaN        NaN   \n",
       "124628       NaN      NaN   120744  NaN     NaN        NaN    NaN        NaN   \n",
       "124661       NaN      NaN   226063  NaN     NaN        NaN    NaN        NaN   \n",
       "124663       NaN      NaN   125396  NaN     NaN        NaN    NaN        NaN   \n",
       "\n",
       "        series_dev  series_group  ...  e_ch     e_m  e_po    e_pl  e_rn  \\\n",
       "59            16.0           5.0  ...  19.0   842.0  10.0  2535.0   1.0   \n",
       "126           17.0           4.0  ...  19.0    26.0   2.0  1828.0   8.0   \n",
       "127           17.0           4.0  ...  19.0    26.0   9.0  1828.0  11.0   \n",
       "129           17.0           4.0  ...  19.0    26.0   2.0  1828.0   8.0   \n",
       "130           17.0           4.0  ...  19.0    26.0   9.0  1828.0  11.0   \n",
       "...            ...           ...  ...   ...     ...   ...     ...   ...   \n",
       "124599         NaN           NaN  ...  19.0  1265.0   6.0  2859.0   1.0   \n",
       "124603         NaN           NaN  ...  19.0   565.0   2.0  1338.0   2.0   \n",
       "124628         NaN           NaN  ...  19.0    26.0   7.0  1214.0   1.0   \n",
       "124661         NaN           NaN  ...  19.0   220.0   1.0  1396.0   4.0   \n",
       "124663         NaN           NaN  ...  19.0   487.0   5.0  2326.0   4.0   \n",
       "\n",
       "        e_section          e_et  label_y  cillabel    pro  \n",
       "59            0.0  2.022061e+11      1.0      -1.0  100.0  \n",
       "126           0.0  2.022061e+11      1.0      -1.0   80.0  \n",
       "127           0.0  2.022061e+11      1.0      -1.0   20.0  \n",
       "129           0.0  2.022061e+11      1.0      -1.0   80.0  \n",
       "130           0.0  2.022061e+11      1.0      -1.0   20.0  \n",
       "...           ...           ...      ...       ...    ...  \n",
       "124599        1.0  2.022061e+11      1.0      -1.0  100.0  \n",
       "124603        0.0  2.022061e+11      1.0      -1.0   80.0  \n",
       "124628        1.0  2.022060e+11      1.0      -1.0  100.0  \n",
       "124661        0.0  2.022061e+11      1.0      -1.0  100.0  \n",
       "124663        0.0  2.022060e+11      1.0      -1.0  100.0  \n",
       "\n",
       "[8067 rows x 62 columns]"
      ]
     },
     "execution_count": 48,
     "metadata": {},
     "output_type": "execute_result"
    }
   ],
   "source": [
    "df_cust"
   ]
  },
  {
   "cell_type": "code",
   "execution_count": 50,
   "id": "a89dc474",
   "metadata": {},
   "outputs": [
    {
     "data": {
      "text/plain": [
       "(array([ 735., 1294.,  172.,    0.,  758.,  795.,    0., 1649., 1486.,\n",
       "         101.]),\n",
       " array([2. , 2.7, 3.4, 4.1, 4.8, 5.5, 6.2, 6.9, 7.6, 8.3, 9. ]),\n",
       " <BarContainer object of 10 artists>)"
      ]
     },
     "execution_count": 50,
     "metadata": {},
     "output_type": "execute_result"
    },
    {
     "data": {
      "image/png": "[encoded data removed]",
      "text/plain": [
       "<Figure size 432x288 with 1 Axes>"
      ]
     },
     "metadata": {
      "needs_background": "light"
     },
     "output_type": "display_data"
    }
   ],
   "source": [
    "import matplotlib.pyplot as plt\n",
    "plt.hist(df_cust['age'])"
   ]
  },
  {
   "cell_type": "code",
   "execution_count": null,
   "id": "89dbe7b7",
   "metadata": {},
   "outputs": [],
   "source": []
  }
 ],
 "metadata": {
  "kernelspec": {
   "display_name": "Python 3 (ipykernel)",
   "language": "python",
   "name": "python3"
  },
  "language_info": {
   "codemirror_mode": {
    "name": "ipython",
    "version": 3
   },
   "file_extension": ".py",
   "mimetype": "text/x-python",
   "name": "python",
   "nbconvert_exporter": "python",
   "pygments_lexer": "ipython3",
   "version": "3.9.12"
  }
 },
 "nbformat": 4,
 "nbformat_minor": 5
}
