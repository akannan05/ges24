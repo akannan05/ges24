{
 "cells": [
  {
   "cell_type": "code",
   "execution_count": 24,
   "id": "8e8ae949",
   "metadata": {},
   "outputs": [],
   "source": [
    "import pandas as pd"
   ]
  },
  {
   "cell_type": "code",
   "execution_count": 25,
   "id": "53e6e914",
   "metadata": {},
   "outputs": [],
   "source": [
    "import numpy as np"
   ]
  },
  {
   "cell_type": "code",
   "execution_count": 26,
   "id": "9db73718",
   "metadata": {},
   "outputs": [],
   "source": [
    "ads = pd.read_csv(\"train_data_ads.csv\")"
   ]
  },
  {
   "cell_type": "code",
   "execution_count": 27,
   "id": "7a86c81d",
   "metadata": {},
   "outputs": [],
   "source": [
    "feeds = pd.read_csv(\"train_data_feeds.csv\")"
   ]
  },
  {
   "cell_type": "code",
   "execution_count": 28,
   "id": "f6f6763c",
   "metadata": {},
   "outputs": [
    {
     "data": {
      "text/plain": [
       "(3227732, 28)"
      ]
     },
     "execution_count": 28,
     "metadata": {},
     "output_type": "execute_result"
    }
   ],
   "source": [
    "feeds.shape"
   ]
  },
  {
   "cell_type": "code",
   "execution_count": 29,
   "id": "32493122",
   "metadata": {},
   "outputs": [
    {
     "data": {
      "text/plain": [
       "76755.17"
      ]
     },
     "execution_count": 29,
     "metadata": {},
     "output_type": "execute_result"
    }
   ],
   "source": [
    "7675517 * 0.01"
   ]
  },
  {
   "cell_type": "code",
   "execution_count": 30,
   "id": "7e96bb35",
   "metadata": {},
   "outputs": [
    {
     "data": {
      "text/plain": [
       "32277.32"
      ]
     },
     "execution_count": 30,
     "metadata": {},
     "output_type": "execute_result"
    }
   ],
   "source": [
    "3227732 * 0.01"
   ]
  },
  {
   "cell_type": "code",
   "execution_count": 31,
   "id": "f1898749",
   "metadata": {},
   "outputs": [],
   "source": [
    "ads = ads.sample(76756)"
   ]
  },
  {
   "cell_type": "code",
   "execution_count": 32,
   "id": "0ea7ba05",
   "metadata": {},
   "outputs": [],
   "source": [
    "feeds = feeds.sample(32278)"
   ]
  },
  {
   "cell_type": "code",
   "execution_count": 33,
   "id": "6a53e2ba",
   "metadata": {},
   "outputs": [
    {
     "data": {
      "text/plain": [
       "(76756, 35)"
      ]
     },
     "execution_count": 33,
     "metadata": {},
     "output_type": "execute_result"
    }
   ],
   "source": [
    "ads.shape"
   ]
  },
  {
   "cell_type": "code",
   "execution_count": 34,
   "id": "bc4546da",
   "metadata": {},
   "outputs": [],
   "source": [
    "feeds['user_id'] = feeds['u_userId']"
   ]
  },
  {
   "cell_type": "code",
   "execution_count": 35,
   "id": "c13ed4fb",
   "metadata": {},
   "outputs": [],
   "source": [
    "feeds = feeds.drop('u_userId', axis = 1)"
   ]
  },
  {
   "cell_type": "code",
   "execution_count": 36,
   "id": "f1438802",
   "metadata": {},
   "outputs": [],
   "source": [
    "merged = pd.merge(ads, feeds, on = 'user_id', how = 'outer')"
   ]
  },
  {
   "cell_type": "code",
   "execution_count": 37,
   "id": "fc5dbfef",
   "metadata": {},
   "outputs": [
    {
     "data": {
      "text/html": [
       "<div>\n",
       "<style scoped>\n",
       "    .dataframe tbody tr th:only-of-type {\n",
       "        vertical-align: middle;\n",
       "    }\n",
       "\n",
       "    .dataframe tbody tr th {\n",
       "        vertical-align: top;\n",
       "    }\n",
       "\n",
       "    .dataframe thead th {\n",
       "        text-align: right;\n",
       "    }\n",
       "</style>\n",
       "<table border=\"1\" class=\"dataframe\">\n",
       "  <thead>\n",
       "    <tr style=\"text-align: right;\">\n",
       "      <th></th>\n",
       "      <th>log_id</th>\n",
       "      <th>label_x</th>\n",
       "      <th>user_id</th>\n",
       "      <th>age</th>\n",
       "      <th>gender</th>\n",
       "      <th>residence</th>\n",
       "      <th>city</th>\n",
       "      <th>city_rank</th>\n",
       "      <th>series_dev</th>\n",
       "      <th>series_group</th>\n",
       "      <th>...</th>\n",
       "      <th>e_ch</th>\n",
       "      <th>e_m</th>\n",
       "      <th>e_po</th>\n",
       "      <th>e_pl</th>\n",
       "      <th>e_rn</th>\n",
       "      <th>e_section</th>\n",
       "      <th>e_et</th>\n",
       "      <th>label_y</th>\n",
       "      <th>cillabel</th>\n",
       "      <th>pro</th>\n",
       "    </tr>\n",
       "  </thead>\n",
       "  <tbody>\n",
       "    <tr>\n",
       "      <th>0</th>\n",
       "      <td>448097.0</td>\n",
       "      <td>0.0</td>\n",
       "      <td>110010</td>\n",
       "      <td>3.0</td>\n",
       "      <td>2.0</td>\n",
       "      <td>21.0</td>\n",
       "      <td>434.0</td>\n",
       "      <td>5.0</td>\n",
       "      <td>31.0</td>\n",
       "      <td>3.0</td>\n",
       "      <td>...</td>\n",
       "      <td>NaN</td>\n",
       "      <td>NaN</td>\n",
       "      <td>NaN</td>\n",
       "      <td>NaN</td>\n",
       "      <td>NaN</td>\n",
       "      <td>NaN</td>\n",
       "      <td>NaN</td>\n",
       "      <td>NaN</td>\n",
       "      <td>NaN</td>\n",
       "      <td>NaN</td>\n",
       "    </tr>\n",
       "    <tr>\n",
       "      <th>1</th>\n",
       "      <td>388876.0</td>\n",
       "      <td>0.0</td>\n",
       "      <td>110010</td>\n",
       "      <td>3.0</td>\n",
       "      <td>2.0</td>\n",
       "      <td>21.0</td>\n",
       "      <td>434.0</td>\n",
       "      <td>5.0</td>\n",
       "      <td>31.0</td>\n",
       "      <td>3.0</td>\n",
       "      <td>...</td>\n",
       "      <td>NaN</td>\n",
       "      <td>NaN</td>\n",
       "      <td>NaN</td>\n",
       "      <td>NaN</td>\n",
       "      <td>NaN</td>\n",
       "      <td>NaN</td>\n",
       "      <td>NaN</td>\n",
       "      <td>NaN</td>\n",
       "      <td>NaN</td>\n",
       "      <td>NaN</td>\n",
       "    </tr>\n",
       "    <tr>\n",
       "      <th>2</th>\n",
       "      <td>448042.0</td>\n",
       "      <td>0.0</td>\n",
       "      <td>110010</td>\n",
       "      <td>3.0</td>\n",
       "      <td>2.0</td>\n",
       "      <td>21.0</td>\n",
       "      <td>434.0</td>\n",
       "      <td>5.0</td>\n",
       "      <td>31.0</td>\n",
       "      <td>3.0</td>\n",
       "      <td>...</td>\n",
       "      <td>NaN</td>\n",
       "      <td>NaN</td>\n",
       "      <td>NaN</td>\n",
       "      <td>NaN</td>\n",
       "      <td>NaN</td>\n",
       "      <td>NaN</td>\n",
       "      <td>NaN</td>\n",
       "      <td>NaN</td>\n",
       "      <td>NaN</td>\n",
       "      <td>NaN</td>\n",
       "    </tr>\n",
       "    <tr>\n",
       "      <th>3</th>\n",
       "      <td>448082.0</td>\n",
       "      <td>0.0</td>\n",
       "      <td>110010</td>\n",
       "      <td>3.0</td>\n",
       "      <td>2.0</td>\n",
       "      <td>21.0</td>\n",
       "      <td>434.0</td>\n",
       "      <td>5.0</td>\n",
       "      <td>31.0</td>\n",
       "      <td>3.0</td>\n",
       "      <td>...</td>\n",
       "      <td>NaN</td>\n",
       "      <td>NaN</td>\n",
       "      <td>NaN</td>\n",
       "      <td>NaN</td>\n",
       "      <td>NaN</td>\n",
       "      <td>NaN</td>\n",
       "      <td>NaN</td>\n",
       "      <td>NaN</td>\n",
       "      <td>NaN</td>\n",
       "      <td>NaN</td>\n",
       "    </tr>\n",
       "    <tr>\n",
       "      <th>4</th>\n",
       "      <td>665519.0</td>\n",
       "      <td>0.0</td>\n",
       "      <td>179890</td>\n",
       "      <td>8.0</td>\n",
       "      <td>2.0</td>\n",
       "      <td>20.0</td>\n",
       "      <td>170.0</td>\n",
       "      <td>4.0</td>\n",
       "      <td>30.0</td>\n",
       "      <td>3.0</td>\n",
       "      <td>...</td>\n",
       "      <td>17.0</td>\n",
       "      <td>1408.0</td>\n",
       "      <td>3.0</td>\n",
       "      <td>871.0</td>\n",
       "      <td>2.0</td>\n",
       "      <td>0.0</td>\n",
       "      <td>2.022060e+11</td>\n",
       "      <td>-1.0</td>\n",
       "      <td>-1.0</td>\n",
       "      <td>0.0</td>\n",
       "    </tr>\n",
       "  </tbody>\n",
       "</table>\n",
       "<p>5 rows × 62 columns</p>\n",
       "</div>"
      ],
      "text/plain": [
       "     log_id  label_x  user_id  age  gender  residence   city  city_rank  \\\n",
       "0  448097.0      0.0   110010  3.0     2.0       21.0  434.0        5.0   \n",
       "1  388876.0      0.0   110010  3.0     2.0       21.0  434.0        5.0   \n",
       "2  448042.0      0.0   110010  3.0     2.0       21.0  434.0        5.0   \n",
       "3  448082.0      0.0   110010  3.0     2.0       21.0  434.0        5.0   \n",
       "4  665519.0      0.0   179890  8.0     2.0       20.0  170.0        4.0   \n",
       "\n",
       "   series_dev  series_group  ...  e_ch     e_m  e_po   e_pl  e_rn  e_section  \\\n",
       "0        31.0           3.0  ...   NaN     NaN   NaN    NaN   NaN        NaN   \n",
       "1        31.0           3.0  ...   NaN     NaN   NaN    NaN   NaN        NaN   \n",
       "2        31.0           3.0  ...   NaN     NaN   NaN    NaN   NaN        NaN   \n",
       "3        31.0           3.0  ...   NaN     NaN   NaN    NaN   NaN        NaN   \n",
       "4        30.0           3.0  ...  17.0  1408.0   3.0  871.0   2.0        0.0   \n",
       "\n",
       "           e_et  label_y  cillabel  pro  \n",
       "0           NaN      NaN       NaN  NaN  \n",
       "1           NaN      NaN       NaN  NaN  \n",
       "2           NaN      NaN       NaN  NaN  \n",
       "3           NaN      NaN       NaN  NaN  \n",
       "4  2.022060e+11     -1.0      -1.0  0.0  \n",
       "\n",
       "[5 rows x 62 columns]"
      ]
     },
     "execution_count": 37,
     "metadata": {},
     "output_type": "execute_result"
    }
   ],
   "source": [
    "merged.head()"
   ]
  },
  {
   "cell_type": "code",
   "execution_count": 38,
   "id": "c6686e17",
   "metadata": {},
   "outputs": [
    {
     "data": {
      "text/plain": [
       "(124665, 62)"
      ]
     },
     "execution_count": 38,
     "metadata": {},
     "output_type": "execute_result"
    }
   ],
   "source": [
    "merged.shape"
   ]
  },
  {
   "cell_type": "code",
   "execution_count": 39,
   "id": "06402564",
   "metadata": {},
   "outputs": [
    {
     "data": {
      "text/plain": [
       "109034"
      ]
     },
     "execution_count": 39,
     "metadata": {},
     "output_type": "execute_result"
    }
   ],
   "source": [
    "76756 + 32278"
   ]
  },
  {
   "cell_type": "code",
   "execution_count": 41,
   "id": "1e81d764",
   "metadata": {},
   "outputs": [
    {
     "data": {
      "text/plain": [
       "Index(['log_id', 'label_x', 'user_id', 'age', 'gender', 'residence', 'city',\n",
       "       'city_rank', 'series_dev', 'series_group', 'emui_dev', 'device_name',\n",
       "       'device_size', 'net_type', 'task_id', 'adv_id', 'creat_type_cd',\n",
       "       'adv_prim_id', 'inter_type_cd', 'slot_id', 'site_id', 'spread_app_id',\n",
       "       'hispace_app_tags', 'app_second_class', 'app_score',\n",
       "       'ad_click_list_v001', 'ad_click_list_v002', 'ad_click_list_v003',\n",
       "       'ad_close_list_v001', 'ad_close_list_v002', 'ad_close_list_v003',\n",
       "       'pt_d', 'u_newsCatInterestsST_x', 'u_refreshTimes_x',\n",
       "       'u_feedLifeCycle_x', 'u_phonePrice', 'u_browserLifeCycle',\n",
       "       'u_browserMode', 'u_feedLifeCycle_y', 'u_refreshTimes_y',\n",
       "       'u_newsCatInterests', 'u_newsCatDislike', 'u_newsCatInterestsST_y',\n",
       "       'u_click_ca2_news', 'i_docId', 'i_s_sourceId', 'i_regionEntity',\n",
       "       'i_cat', 'i_entities', 'i_dislikeTimes', 'i_upTimes', 'i_dtype', 'e_ch',\n",
       "       'e_m', 'e_po', 'e_pl', 'e_rn', 'e_section', 'e_et', 'label_y',\n",
       "       'cillabel', 'pro'],\n",
       "      dtype='object')"
      ]
     },
     "execution_count": 41,
     "metadata": {},
     "output_type": "execute_result"
    }
   ],
   "source": [
    "merged.columns"
   ]
  },
  {
   "cell_type": "code",
   "execution_count": 45,
   "id": "4392bc3f",
   "metadata": {},
   "outputs": [],
   "source": [
    "df_cust = merged[merged['label_y'] == 1]"
   ]
  },
  {
   "cell_type": "code",
   "execution_count": 47,
   "id": "fb63731d",
   "metadata": {},
   "outputs": [
    {
     "data": {
      "text/plain": [
       "(8067, 62)"
      ]
     },
     "execution_count": 47,
     "metadata": {},
     "output_type": "execute_result"
    }
   ],
   "source": [
    "df_cust.shape"
   ]
  },
  {
   "cell_type": "code",
   "execution_count": 48,
   "id": "322092b3",
   "metadata": {},
   "outputs": [
    {
     "data": {
      "text/html": [
       "<div>\n",
       "<style scoped>\n",
       "    .dataframe tbody tr th:only-of-type {\n",
       "        vertical-align: middle;\n",
       "    }\n",
       "\n",
       "    .dataframe tbody tr th {\n",
       "        vertical-align: top;\n",
       "    }\n",
       "\n",
       "    .dataframe thead th {\n",
       "        text-align: right;\n",
       "    }\n",
       "</style>\n",
       "<table border=\"1\" class=\"dataframe\">\n",
       "  <thead>\n",
       "    <tr style=\"text-align: right;\">\n",
       "      <th></th>\n",
       "      <th>log_id</th>\n",
       "      <th>label_x</th>\n",
       "      <th>user_id</th>\n",
       "      <th>age</th>\n",
       "      <th>gender</th>\n",
       "      <th>residence</th>\n",
       "      <th>city</th>\n",
       "      <th>city_rank</th>\n",
       "      <th>series_dev</th>\n",
       "      <th>series_group</th>\n",
       "      <th>...</th>\n",
       "      <th>e_ch</th>\n",
       "      <th>e_m</th>\n",
       "      <th>e_po</th>\n",
       "      <th>e_pl</th>\n",
       "      <th>e_rn</th>\n",
       "      <th>e_section</th>\n",
       "      <th>e_et</th>\n",
       "      <th>label_y</th>\n",
       "      <th>cillabel</th>\n",
       "      <th>pro</th>\n",
       "    </tr>\n",
       "  </thead>\n",
       "  <tbody>\n",
       "    <tr>\n",
       "      <th>59</th>\n",
       "      <td>647968.0</td>\n",
       "      <td>0.0</td>\n",
       "      <td>195823</td>\n",
       "      <td>7.0</td>\n",
       "      <td>2.0</td>\n",
       "      <td>13.0</td>\n",
       "      <td>430.0</td>\n",
       "      <td>2.0</td>\n",
       "      <td>16.0</td>\n",
       "      <td>5.0</td>\n",
       "      <td>...</td>\n",
       "      <td>19.0</td>\n",
       "      <td>842.0</td>\n",
       "      <td>10.0</td>\n",
       "      <td>2535.0</td>\n",
       "      <td>1.0</td>\n",
       "      <td>0.0</td>\n",
       "      <td>2.022061e+11</td>\n",
       "      <td>1.0</td>\n",
       "      <td>-1.0</td>\n",
       "      <td>100.0</td>\n",
       "    </tr>\n",
       "    <tr>\n",
       "      <th>126</th>\n",
       "      <td>892670.0</td>\n",
       "      <td>0.0</td>\n",
       "      <td>139694</td>\n",
       "      <td>5.0</td>\n",
       "      <td>2.0</td>\n",
       "      <td>16.0</td>\n",
       "      <td>120.0</td>\n",
       "      <td>4.0</td>\n",
       "      <td>17.0</td>\n",
       "      <td>4.0</td>\n",
       "      <td>...</td>\n",
       "      <td>19.0</td>\n",
       "      <td>26.0</td>\n",
       "      <td>2.0</td>\n",
       "      <td>1828.0</td>\n",
       "      <td>8.0</td>\n",
       "      <td>0.0</td>\n",
       "      <td>2.022061e+11</td>\n",
       "      <td>1.0</td>\n",
       "      <td>-1.0</td>\n",
       "      <td>80.0</td>\n",
       "    </tr>\n",
       "    <tr>\n",
       "      <th>127</th>\n",
       "      <td>892670.0</td>\n",
       "      <td>0.0</td>\n",
       "      <td>139694</td>\n",
       "      <td>5.0</td>\n",
       "      <td>2.0</td>\n",
       "      <td>16.0</td>\n",
       "      <td>120.0</td>\n",
       "      <td>4.0</td>\n",
       "      <td>17.0</td>\n",
       "      <td>4.0</td>\n",
       "      <td>...</td>\n",
       "      <td>19.0</td>\n",
       "      <td>26.0</td>\n",
       "      <td>9.0</td>\n",
       "      <td>1828.0</td>\n",
       "      <td>11.0</td>\n",
       "      <td>0.0</td>\n",
       "      <td>2.022061e+11</td>\n",
       "      <td>1.0</td>\n",
       "      <td>-1.0</td>\n",
       "      <td>20.0</td>\n",
       "    </tr>\n",
       "    <tr>\n",
       "      <th>129</th>\n",
       "      <td>892570.0</td>\n",
       "      <td>0.0</td>\n",
       "      <td>139694</td>\n",
       "      <td>5.0</td>\n",
       "      <td>2.0</td>\n",
       "      <td>16.0</td>\n",
       "      <td>120.0</td>\n",
       "      <td>4.0</td>\n",
       "      <td>17.0</td>\n",
       "      <td>4.0</td>\n",
       "      <td>...</td>\n",
       "      <td>19.0</td>\n",
       "      <td>26.0</td>\n",
       "      <td>2.0</td>\n",
       "      <td>1828.0</td>\n",
       "      <td>8.0</td>\n",
       "      <td>0.0</td>\n",
       "      <td>2.022061e+11</td>\n",
       "      <td>1.0</td>\n",
       "      <td>-1.0</td>\n",
       "      <td>80.0</td>\n",
       "    </tr>\n",
       "    <tr>\n",
       "      <th>130</th>\n",
       "      <td>892570.0</td>\n",
       "      <td>0.0</td>\n",
       "      <td>139694</td>\n",
       "      <td>5.0</td>\n",
       "      <td>2.0</td>\n",
       "      <td>16.0</td>\n",
       "      <td>120.0</td>\n",
       "      <td>4.0</td>\n",
       "      <td>17.0</td>\n",
       "      <td>4.0</td>\n",
       "      <td>...</td>\n",
       "      <td>19.0</td>\n",
       "      <td>26.0</td>\n",
       "      <td>9.0</td>\n",
       "      <td>1828.0</td>\n",
       "      <td>11.0</td>\n",
       "      <td>0.0</td>\n",
       "      <td>2.022061e+11</td>\n",
       "      <td>1.0</td>\n",
       "      <td>-1.0</td>\n",
       "      <td>20.0</td>\n",
       "    </tr>\n",
       "    <tr>\n",
       "      <th>...</th>\n",
       "      <td>...</td>\n",
       "      <td>...</td>\n",
       "      <td>...</td>\n",
       "      <td>...</td>\n",
       "      <td>...</td>\n",
       "      <td>...</td>\n",
       "      <td>...</td>\n",
       "      <td>...</td>\n",
       "      <td>...</td>\n",
       "      <td>...</td>\n",
       "      <td>...</td>\n",
       "      <td>...</td>\n",
       "      <td>...</td>\n",
       "      <td>...</td>\n",
       "      <td>...</td>\n",
       "      <td>...</td>\n",
       "      <td>...</td>\n",
       "      <td>...</td>\n",
       "      <td>...</td>\n",
       "      <td>...</td>\n",
       "      <td>...</td>\n",
       "    </tr>\n",
       "    <tr>\n",
       "      <th>124599</th>\n",
       "      <td>NaN</td>\n",
       "      <td>NaN</td>\n",
       "      <td>127868</td>\n",
       "      <td>NaN</td>\n",
       "      <td>NaN</td>\n",
       "      <td>NaN</td>\n",
       "      <td>NaN</td>\n",
       "      <td>NaN</td>\n",
       "      <td>NaN</td>\n",
       "      <td>NaN</td>\n",
       "      <td>...</td>\n",
       "      <td>19.0</td>\n",
       "      <td>1265.0</td>\n",
       "      <td>6.0</td>\n",
       "      <td>2859.0</td>\n",
       "      <td>1.0</td>\n",
       "      <td>1.0</td>\n",
       "      <td>2.022061e+11</td>\n",
       "      <td>1.0</td>\n",
       "      <td>-1.0</td>\n",
       "      <td>100.0</td>\n",
       "    </tr>\n",
       "    <tr>\n",
       "      <th>124603</th>\n",
       "      <td>NaN</td>\n",
       "      <td>NaN</td>\n",
       "      <td>177484</td>\n",
       "      <td>NaN</td>\n",
       "      <td>NaN</td>\n",
       "      <td>NaN</td>\n",
       "      <td>NaN</td>\n",
       "      <td>NaN</td>\n",
       "      <td>NaN</td>\n",
       "      <td>NaN</td>\n",
       "      <td>...</td>\n",
       "      <td>19.0</td>\n",
       "      <td>565.0</td>\n",
       "      <td>2.0</td>\n",
       "      <td>1338.0</td>\n",
       "      <td>2.0</td>\n",
       "      <td>0.0</td>\n",
       "      <td>2.022061e+11</td>\n",
       "      <td>1.0</td>\n",
       "      <td>-1.0</td>\n",
       "      <td>80.0</td>\n",
       "    </tr>\n",
       "    <tr>\n",
       "      <th>124628</th>\n",
       "      <td>NaN</td>\n",
       "      <td>NaN</td>\n",
       "      <td>120744</td>\n",
       "      <td>NaN</td>\n",
       "      <td>NaN</td>\n",
       "      <td>NaN</td>\n",
       "      <td>NaN</td>\n",
       "      <td>NaN</td>\n",
       "      <td>NaN</td>\n",
       "      <td>NaN</td>\n",
       "      <td>...</td>\n",
       "      <td>19.0</td>\n",
       "      <td>26.0</td>\n",
       "      <td>7.0</td>\n",
       "      <td>1214.0</td>\n",
       "      <td>1.0</td>\n",
       "      <td>1.0</td>\n",
       "      <td>2.022060e+11</td>\n",
       "      <td>1.0</td>\n",
       "      <td>-1.0</td>\n",
       "      <td>100.0</td>\n",
       "    </tr>\n",
       "    <tr>\n",
       "      <th>124661</th>\n",
       "      <td>NaN</td>\n",
       "      <td>NaN</td>\n",
       "      <td>226063</td>\n",
       "      <td>NaN</td>\n",
       "      <td>NaN</td>\n",
       "      <td>NaN</td>\n",
       "      <td>NaN</td>\n",
       "      <td>NaN</td>\n",
       "      <td>NaN</td>\n",
       "      <td>NaN</td>\n",
       "      <td>...</td>\n",
       "      <td>19.0</td>\n",
       "      <td>220.0</td>\n",
       "      <td>1.0</td>\n",
       "      <td>1396.0</td>\n",
       "      <td>4.0</td>\n",
       "      <td>0.0</td>\n",
       "      <td>2.022061e+11</td>\n",
       "      <td>1.0</td>\n",
       "      <td>-1.0</td>\n",
       "      <td>100.0</td>\n",
       "    </tr>\n",
       "    <tr>\n",
       "      <th>124663</th>\n",
       "      <td>NaN</td>\n",
       "      <td>NaN</td>\n",
       "      <td>125396</td>\n",
       "      <td>NaN</td>\n",
       "      <td>NaN</td>\n",
       "      <td>NaN</td>\n",
       "      <td>NaN</td>\n",
       "      <td>NaN</td>\n",
       "      <td>NaN</td>\n",
       "      <td>NaN</td>\n",
       "      <td>...</td>\n",
       "      <td>19.0</td>\n",
       "      <td>487.0</td>\n",
       "      <td>5.0</td>\n",
       "      <td>2326.0</td>\n",
       "      <td>4.0</td>\n",
       "      <td>0.0</td>\n",
       "      <td>2.022060e+11</td>\n",
       "      <td>1.0</td>\n",
       "      <td>-1.0</td>\n",
       "      <td>100.0</td>\n",
       "    </tr>\n",
       "  </tbody>\n",
       "</table>\n",
       "<p>8067 rows × 62 columns</p>\n",
       "</div>"
      ],
      "text/plain": [
       "          log_id  label_x  user_id  age  gender  residence   city  city_rank  \\\n",
       "59      647968.0      0.0   195823  7.0     2.0       13.0  430.0        2.0   \n",
       "126     892670.0      0.0   139694  5.0     2.0       16.0  120.0        4.0   \n",
       "127     892670.0      0.0   139694  5.0     2.0       16.0  120.0        4.0   \n",
       "129     892570.0      0.0   139694  5.0     2.0       16.0  120.0        4.0   \n",
       "130     892570.0      0.0   139694  5.0     2.0       16.0  120.0        4.0   \n",
       "...          ...      ...      ...  ...     ...        ...    ...        ...   \n",
       "124599       NaN      NaN   127868  NaN     NaN        NaN    NaN        NaN   \n",
       "124603       NaN      NaN   177484  NaN     NaN        NaN    NaN        NaN   \n",
       "124628       NaN      NaN   120744  NaN     NaN        NaN    NaN        NaN   \n",
       "124661       NaN      NaN   226063  NaN     NaN        NaN    NaN        NaN   \n",
       "124663       NaN      NaN   125396  NaN     NaN        NaN    NaN        NaN   \n",
       "\n",
       "        series_dev  series_group  ...  e_ch     e_m  e_po    e_pl  e_rn  \\\n",
       "59            16.0           5.0  ...  19.0   842.0  10.0  2535.0   1.0   \n",
       "126           17.0           4.0  ...  19.0    26.0   2.0  1828.0   8.0   \n",
       "127           17.0           4.0  ...  19.0    26.0   9.0  1828.0  11.0   \n",
       "129           17.0           4.0  ...  19.0    26.0   2.0  1828.0   8.0   \n",
       "130           17.0           4.0  ...  19.0    26.0   9.0  1828.0  11.0   \n",
       "...            ...           ...  ...   ...     ...   ...     ...   ...   \n",
       "124599         NaN           NaN  ...  19.0  1265.0   6.0  2859.0   1.0   \n",
       "124603         NaN           NaN  ...  19.0   565.0   2.0  1338.0   2.0   \n",
       "124628         NaN           NaN  ...  19.0    26.0   7.0  1214.0   1.0   \n",
       "124661         NaN           NaN  ...  19.0   220.0   1.0  1396.0   4.0   \n",
       "124663         NaN           NaN  ...  19.0   487.0   5.0  2326.0   4.0   \n",
       "\n",
       "        e_section          e_et  label_y  cillabel    pro  \n",
       "59            0.0  2.022061e+11      1.0      -1.0  100.0  \n",
       "126           0.0  2.022061e+11      1.0      -1.0   80.0  \n",
       "127           0.0  2.022061e+11      1.0      -1.0   20.0  \n",
       "129           0.0  2.022061e+11      1.0      -1.0   80.0  \n",
       "130           0.0  2.022061e+11      1.0      -1.0   20.0  \n",
       "...           ...           ...      ...       ...    ...  \n",
       "124599        1.0  2.022061e+11      1.0      -1.0  100.0  \n",
       "124603        0.0  2.022061e+11      1.0      -1.0   80.0  \n",
       "124628        1.0  2.022060e+11      1.0      -1.0  100.0  \n",
       "124661        0.0  2.022061e+11      1.0      -1.0  100.0  \n",
       "124663        0.0  2.022060e+11      1.0      -1.0  100.0  \n",
       "\n",
       "[8067 rows x 62 columns]"
      ]
     },
     "execution_count": 48,
     "metadata": {},
     "output_type": "execute_result"
    }
   ],
   "source": [
    "df_cust"
   ]
  },
  {
   "cell_type": "code",
   "execution_count": 50,
   "id": "a89dc474",
   "metadata": {},
   "outputs": [
    {
     "data": {
      "text/plain": [
       "(array([ 735., 1294.,  172.,    0.,  758.,  795.,    0., 1649., 1486.,\n",
       "         101.]),\n",
       " array([2. , 2.7, 3.4, 4.1, 4.8, 5.5, 6.2, 6.9, 7.6, 8.3, 9. ]),\n",
       " <BarContainer object of 10 artists>)"
      ]
     },
     "execution_count": 50,
     "metadata": {},
     "output_type": "execute_result"
    },
    {
     "data": {
      "image/png": "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",
      "text/plain": [
       "<Figure size 432x288 with 1 Axes>"
      ]
     },
     "metadata": {
      "needs_background": "light"
     },
     "output_type": "display_data"
    }
   ],
   "source": [
    "import matplotlib.pyplot as plt\n",
    "plt.hist(df_cust['age'])"
   ]
  },
  {
   "cell_type": "code",
   "execution_count": 51,
   "id": "89dbe7b7",
   "metadata": {},
   "outputs": [
    {
     "data": {
      "text/plain": [
       "(array([ 384.,  865., 1847.,  263.,  648.,  680., 1167.,   39.,  553.,\n",
       "         544.]),\n",
       " array([11. , 14.5, 18. , 21.5, 25. , 28.5, 32. , 35.5, 39. , 42.5, 46. ]),\n",
       " <BarContainer object of 10 artists>)"
      ]
     },
     "execution_count": 51,
     "metadata": {},
     "output_type": "execute_result"
    },
    {
     "data": {
      "image/png": "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",
      "text/plain": [
       "<Figure size 432x288 with 1 Axes>"
      ]
     },
     "metadata": {
      "needs_background": "light"
     },
     "output_type": "display_data"
    }
   ],
   "source": [
    "plt.hist(df_cust['residence'])"
   ]
  },
  {
   "cell_type": "code",
   "execution_count": 52,
   "id": "88a3fe9d",
   "metadata": {},
   "outputs": [
    {
     "data": {
      "text/plain": [
       "(array([ 735.,  754.,  630.,  511.,  520.,  488., 1496.,  739.,  329.,\n",
       "         788.]),\n",
       " array([101., 135., 169., 203., 237., 271., 305., 339., 373., 407., 441.]),\n",
       " <BarContainer object of 10 artists>)"
      ]
     },
     "execution_count": 52,
     "metadata": {},
     "output_type": "execute_result"
    },
    {
     "data": {
      "image/png": "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",
      "text/plain": [
       "<Figure size 432x288 with 1 Axes>"
      ]
     },
     "metadata": {
      "needs_background": "light"
     },
     "output_type": "display_data"
    }
   ],
   "source": [
    "plt.hist(df_cust['city'])"
   ]
  },
  {
   "cell_type": "code",
   "execution_count": 53,
   "id": "7c9497a1",
   "metadata": {},
   "outputs": [
    {
     "data": {
      "text/plain": [
       "(array([ 892., 2221.,    0.,  451.,    0., 1282.,  816.,    0.,  624.,\n",
       "         704.]),\n",
       " array([2. , 2.6, 3.2, 3.8, 4.4, 5. , 5.6, 6.2, 6.8, 7.4, 8. ]),\n",
       " <BarContainer object of 10 artists>)"
      ]
     },
     "execution_count": 53,
     "metadata": {},
     "output_type": "execute_result"
    },
    {
     "data": {
      "image/png": "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",
      "text/plain": [
       "<Figure size 432x288 with 1 Axes>"
      ]
     },
     "metadata": {
      "needs_background": "light"
     },
     "output_type": "display_data"
    }
   ],
   "source": [
    "plt.hist(df_cust['series_group'])"
   ]
  },
  {
   "cell_type": "code",
   "execution_count": 54,
   "id": "87a2c53c",
   "metadata": {},
   "outputs": [
    {
     "data": {
      "text/plain": [
       "(array([5957.,    0.,    0.,    0.,    0.,    0.,    0.,    0.,    0.,\n",
       "        2110.]),\n",
       " array([0. , 0.1, 0.2, 0.3, 0.4, 0.5, 0.6, 0.7, 0.8, 0.9, 1. ]),\n",
       " <BarContainer object of 10 artists>)"
      ]
     },
     "execution_count": 54,
     "metadata": {},
     "output_type": "execute_result"
    },
    {
     "data": {
      "image/png": "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",
      "text/plain": [
       "<Figure size 432x288 with 1 Axes>"
      ]
     },
     "metadata": {
      "needs_background": "light"
     },
     "output_type": "display_data"
    }
   ],
   "source": [
    "plt.hist(df_cust['e_section'])"
   ]
  }
 ],
 "metadata": {
  "kernelspec": {
   "display_name": "Python 3 (ipykernel)",
   "language": "python",
   "name": "python3"
  }
 },
 "nbformat": 4,
 "nbformat_minor": 5
}
=======
>>>>>>> d9cf2afe3c43e1d6a836f1c221206269d2623b8d
