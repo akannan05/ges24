{
 "cells": [
  {
   "cell_type": "code",
   "execution_count": 1,
   "id": "9e9910d5",
   "metadata": {},
   "outputs": [],
   "source": [
    "import pandas as pd"
   ]
  },
  {
   "cell_type": "code",
   "execution_count": 2,
   "id": "f731e5ef",
   "metadata": {},
   "outputs": [],
   "source": [
    "import numpy as np"
   ]
  },
  {
   "cell_type": "code",
   "execution_count": 3,
   "id": "50506b4c",
   "metadata": {},
   "outputs": [],
   "source": [
    "ads = pd.read_csv(\"train_data_ads.csv\")"
   ]
  },
  {
   "cell_type": "code",
   "execution_count": 4,
   "id": "e47a0d2c",
   "metadata": {},
   "outputs": [],
   "source": [
    "feeds = pd.read_csv(\"train_data_feeds.csv\")"
   ]
  },
  {
   "cell_type": "code",
   "execution_count": 5,
   "id": "c0320ea1",
   "metadata": {},
   "outputs": [],
   "source": [
    "ads = ads.drop_duplicates(subset='user_id', keep='first', inplace=False)\n",
    "feeds = feeds.drop_duplicates(subset='u_userId', keep='first', inplace=False)"
   ]
  },
  {
   "cell_type": "code",
   "execution_count": 6,
   "id": "021f2b9c",
   "metadata": {},
   "outputs": [
    {
     "data": {
      "text/plain": [
       "(180123, 28)"
      ]
     },
     "execution_count": 6,
     "metadata": {},
     "output_type": "execute_result"
    }
   ],
   "source": [
    "feeds.shape"
   ]
  },
  {
   "cell_type": "code",
   "execution_count": 7,
   "id": "4e579b8f",
   "metadata": {},
   "outputs": [
    {
     "data": {
      "text/plain": [
       "(65297, 35)"
      ]
     },
     "execution_count": 7,
     "metadata": {},
     "output_type": "execute_result"
    }
   ],
   "source": [
    "ads.shape"
   ]
  },
  {
   "cell_type": "code",
   "execution_count": 8,
   "id": "38c7b2e0",
   "metadata": {},
   "outputs": [],
   "source": [
    "feeds['user_id'] = feeds['u_userId']"
   ]
  },
  {
   "cell_type": "code",
   "execution_count": 9,
   "id": "0784da2e",
   "metadata": {},
   "outputs": [],
   "source": [
    "feeds = feeds.drop('u_userId', axis = 1)"
   ]
  },
  {
   "cell_type": "code",
   "execution_count": 10,
   "id": "bd3ada2c",
   "metadata": {},
   "outputs": [],
   "source": [
    "merged = pd.merge(ads, feeds, on = 'user_id', how = 'outer')"
   ]
  },
  {
   "cell_type": "code",
   "execution_count": 11,
   "id": "74721bce",
   "metadata": {},
   "outputs": [
    {
     "data": {
      "text/html": [
       "<div>\n",
       "<style scoped>\n",
       "    .dataframe tbody tr th:only-of-type {\n",
       "        vertical-align: middle;\n",
       "    }\n",
       "\n",
       "    .dataframe tbody tr th {\n",
       "        vertical-align: top;\n",
       "    }\n",
       "\n",
       "    .dataframe thead th {\n",
       "        text-align: right;\n",
       "    }\n",
       "</style>\n",
       "<table border=\"1\" class=\"dataframe\">\n",
       "  <thead>\n",
       "    <tr style=\"text-align: right;\">\n",
       "      <th></th>\n",
       "      <th>log_id</th>\n",
       "      <th>label_x</th>\n",
       "      <th>user_id</th>\n",
       "      <th>age</th>\n",
       "      <th>gender</th>\n",
       "      <th>residence</th>\n",
       "      <th>city</th>\n",
       "      <th>city_rank</th>\n",
       "      <th>series_dev</th>\n",
       "      <th>series_group</th>\n",
       "      <th>...</th>\n",
       "      <th>e_ch</th>\n",
       "      <th>e_m</th>\n",
       "      <th>e_po</th>\n",
       "      <th>e_pl</th>\n",
       "      <th>e_rn</th>\n",
       "      <th>e_section</th>\n",
       "      <th>e_et</th>\n",
       "      <th>label_y</th>\n",
       "      <th>cillabel</th>\n",
       "      <th>pro</th>\n",
       "    </tr>\n",
       "  </thead>\n",
       "  <tbody>\n",
       "    <tr>\n",
       "      <th>0</th>\n",
       "      <td>373250.0</td>\n",
       "      <td>0.0</td>\n",
       "      <td>100005</td>\n",
       "      <td>3.0</td>\n",
       "      <td>2.0</td>\n",
       "      <td>16.0</td>\n",
       "      <td>147.0</td>\n",
       "      <td>2.0</td>\n",
       "      <td>32.0</td>\n",
       "      <td>6.0</td>\n",
       "      <td>...</td>\n",
       "      <td>19</td>\n",
       "      <td>1123</td>\n",
       "      <td>13</td>\n",
       "      <td>2836</td>\n",
       "      <td>1</td>\n",
       "      <td>0</td>\n",
       "      <td>202206031527</td>\n",
       "      <td>-1</td>\n",
       "      <td>-1</td>\n",
       "      <td>0</td>\n",
       "    </tr>\n",
       "    <tr>\n",
       "      <th>1</th>\n",
       "      <td>101100.0</td>\n",
       "      <td>0.0</td>\n",
       "      <td>100006</td>\n",
       "      <td>5.0</td>\n",
       "      <td>2.0</td>\n",
       "      <td>13.0</td>\n",
       "      <td>191.0</td>\n",
       "      <td>4.0</td>\n",
       "      <td>32.0</td>\n",
       "      <td>6.0</td>\n",
       "      <td>...</td>\n",
       "      <td>19</td>\n",
       "      <td>998</td>\n",
       "      <td>6</td>\n",
       "      <td>835</td>\n",
       "      <td>1</td>\n",
       "      <td>1</td>\n",
       "      <td>202206031125</td>\n",
       "      <td>-1</td>\n",
       "      <td>-1</td>\n",
       "      <td>0</td>\n",
       "    </tr>\n",
       "    <tr>\n",
       "      <th>2</th>\n",
       "      <td>742637.0</td>\n",
       "      <td>0.0</td>\n",
       "      <td>100009</td>\n",
       "      <td>5.0</td>\n",
       "      <td>2.0</td>\n",
       "      <td>46.0</td>\n",
       "      <td>354.0</td>\n",
       "      <td>2.0</td>\n",
       "      <td>11.0</td>\n",
       "      <td>8.0</td>\n",
       "      <td>...</td>\n",
       "      <td>19</td>\n",
       "      <td>508</td>\n",
       "      <td>2</td>\n",
       "      <td>407</td>\n",
       "      <td>3</td>\n",
       "      <td>0</td>\n",
       "      <td>202206080528</td>\n",
       "      <td>-1</td>\n",
       "      <td>-1</td>\n",
       "      <td>0</td>\n",
       "    </tr>\n",
       "    <tr>\n",
       "      <th>3</th>\n",
       "      <td>744753.0</td>\n",
       "      <td>0.0</td>\n",
       "      <td>100010</td>\n",
       "      <td>3.0</td>\n",
       "      <td>4.0</td>\n",
       "      <td>33.0</td>\n",
       "      <td>319.0</td>\n",
       "      <td>3.0</td>\n",
       "      <td>31.0</td>\n",
       "      <td>3.0</td>\n",
       "      <td>...</td>\n",
       "      <td>11</td>\n",
       "      <td>1361</td>\n",
       "      <td>3</td>\n",
       "      <td>2383</td>\n",
       "      <td>3</td>\n",
       "      <td>0</td>\n",
       "      <td>202206032213</td>\n",
       "      <td>-1</td>\n",
       "      <td>-1</td>\n",
       "      <td>0</td>\n",
       "    </tr>\n",
       "    <tr>\n",
       "      <th>4</th>\n",
       "      <td>669191.0</td>\n",
       "      <td>0.0</td>\n",
       "      <td>100019</td>\n",
       "      <td>7.0</td>\n",
       "      <td>2.0</td>\n",
       "      <td>16.0</td>\n",
       "      <td>310.0</td>\n",
       "      <td>2.0</td>\n",
       "      <td>16.0</td>\n",
       "      <td>5.0</td>\n",
       "      <td>...</td>\n",
       "      <td>12</td>\n",
       "      <td>1319</td>\n",
       "      <td>5</td>\n",
       "      <td>2240</td>\n",
       "      <td>2</td>\n",
       "      <td>0</td>\n",
       "      <td>202206032128</td>\n",
       "      <td>-1</td>\n",
       "      <td>-1</td>\n",
       "      <td>0</td>\n",
       "    </tr>\n",
       "  </tbody>\n",
       "</table>\n",
       "<p>5 rows × 62 columns</p>\n",
       "</div>"
      ],
      "text/plain": [
       "     log_id  label_x  user_id  age  gender  residence   city  city_rank  \\\n",
       "0  373250.0      0.0   100005  3.0     2.0       16.0  147.0        2.0   \n",
       "1  101100.0      0.0   100006  5.0     2.0       13.0  191.0        4.0   \n",
       "2  742637.0      0.0   100009  5.0     2.0       46.0  354.0        2.0   \n",
       "3  744753.0      0.0   100010  3.0     4.0       33.0  319.0        3.0   \n",
       "4  669191.0      0.0   100019  7.0     2.0       16.0  310.0        2.0   \n",
       "\n",
       "   series_dev  series_group  ...  e_ch   e_m  e_po  e_pl  e_rn  e_section  \\\n",
       "0        32.0           6.0  ...    19  1123    13  2836     1          0   \n",
       "1        32.0           6.0  ...    19   998     6   835     1          1   \n",
       "2        11.0           8.0  ...    19   508     2   407     3          0   \n",
       "3        31.0           3.0  ...    11  1361     3  2383     3          0   \n",
       "4        16.0           5.0  ...    12  1319     5  2240     2          0   \n",
       "\n",
       "           e_et  label_y  cillabel  pro  \n",
       "0  202206031527       -1        -1    0  \n",
       "1  202206031125       -1        -1    0  \n",
       "2  202206080528       -1        -1    0  \n",
       "3  202206032213       -1        -1    0  \n",
       "4  202206032128       -1        -1    0  \n",
       "\n",
       "[5 rows x 62 columns]"
      ]
     },
     "execution_count": 11,
     "metadata": {},
     "output_type": "execute_result"
    }
   ],
   "source": [
    "merged.head()"
   ]
  },
  {
   "cell_type": "code",
   "execution_count": null,
   "id": "0a0b836b",
   "metadata": {},
   "outputs": [],
   "source": []
  }
 ],
 "metadata": {
  "kernelspec": {
   "display_name": "Python 3",
   "language": "python",
   "name": "python3"
  },
  "language_info": {
   "codemirror_mode": {
    "name": "ipython",
    "version": 3
   },
   "file_extension": ".py",
   "mimetype": "text/x-python",
   "name": "python",
   "nbconvert_exporter": "python",
   "pygments_lexer": "ipython3",
   "version": "3.6.13"
  }
 },
 "nbformat": 4,
 "nbformat_minor": 5
}
