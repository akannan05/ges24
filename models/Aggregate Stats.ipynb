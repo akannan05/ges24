{
 "cells": [
  {
   "cell_type": "code",
   "execution_count": 2,
   "metadata": {},
   "outputs": [],
   "source": [
    "import pandas as pd\n",
    "import numpy as np\n",
    "import matplotlib.pyplot as plt"
   ]
  },
  {
   "cell_type": "code",
   "execution_count": 3,
   "metadata": {},
   "outputs": [],
   "source": [
    "def age_group_distribution(df):\n",
    "\n",
    "    df_cust = df[df['label'] == 1]\n",
    "    df_none = df[df['label'] == 0]\n",
    "\n",
    "    plt.hist(df_cust['age'])"
   ]
  },
  {
   "cell_type": "code",
   "execution_count": null,
   "metadata": {},
   "outputs": [],
   "source": [
    "def geo_distribution(df):\n",
    "\n",
    "    df_cust = df[df['label'] == 1]\n",
    "    df_none = df[df['label'] == 0]\n",
    "\n",
    "    plt.hist(df_cust['residence'])\n",
    "    plt.hist(df_cust['city'])"
   ]
  },
  {
   "cell_type": "code",
   "execution_count": null,
   "metadata": {},
   "outputs": [],
   "source": [
    "def device_distribution(df):\n",
    "\n",
    "    df_cust = df[df['label'] == 1]\n",
    "    df_none = df[df['label'] == 0]\n",
    "\n",
    "    plt.hist(df_cust['series_group'])"
   ]
  },
  {
   "cell_type": "code",
   "execution_count": 4,
   "metadata": {},
   "outputs": [],
   "source": [
    "def content_distribution(df):\n",
    "\n",
    "    df_cust = df[df['label'] == 1]\n",
    "    df_none = df[df['label'] == 0]\n",
    "\n",
    "    plt.hist(df_cust['e_section'])"
   ]
  },
  {
   "cell_type": "code",
   "execution_count": null,
   "metadata": {},
   "outputs": [],
   "source": [
    "def aggregate_stats(df, col):\n",
    "\n",
    "    df_cust = df[df['label'] == 1]\n",
    "    df_none = df[df['label'] == 0]\n",
    "\n",
    "    plt.hist(df[col])"
   ]
  }
 ],
 "metadata": {
  "kernelspec": {
   "display_name": "Python 3",
   "language": "python",
   "name": "python3"
  },
  "language_info": {
   "codemirror_mode": {
    "name": "ipython",
    "version": 3
   },
   "file_extension": ".py",
   "mimetype": "text/x-python",
   "name": "python",
   "nbconvert_exporter": "python",
   "pygments_lexer": "ipython3",
   "version": "3.6.13"
  },
  "orig_nbformat": 4
 },
 "nbformat": 4,
 "nbformat_minor": 2
}
